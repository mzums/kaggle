{
  "nbformat": 4,
  "nbformat_minor": 0,
  "metadata": {
    "colab": {
      "provenance": [],
      "authorship_tag": "ABX9TyMNbUB6c7mcrxN4BhodDAAt",
      "include_colab_link": true
    },
    "kernelspec": {
      "name": "python3",
      "display_name": "Python 3"
    },
    "language_info": {
      "name": "python"
    }
  },
  "cells": [
    {
      "cell_type": "markdown",
      "metadata": {
        "id": "view-in-github",
        "colab_type": "text"
      },
      "source": [
        "<a href=\"https://colab.research.google.com/github/mzums/kaggle/blob/main/salary_dataset.ipynb\" target=\"_parent\"><img src=\"https://colab.research.google.com/assets/colab-badge.svg\" alt=\"Open In Colab\"/></a>"
      ]
    },
    {
      "cell_type": "code",
      "source": [
        "! pip install -q kaggle"
      ],
      "metadata": {
        "id": "1UyM_UmZmx56"
      },
      "execution_count": 51,
      "outputs": []
    },
    {
      "cell_type": "code",
      "source": [
        "!mkdir ~/.kaggle\n",
        "!cp kaggle.json ~/.kaggle/\n",
        "! chmod 600 /root/.kaggle/kaggle.json"
      ],
      "metadata": {
        "colab": {
          "base_uri": "https://localhost:8080/"
        },
        "id": "z5PvhMMgsKzD",
        "outputId": "a3d25187-8309-46a9-89ac-df258cc2da4a"
      },
      "execution_count": 49,
      "outputs": [
        {
          "output_type": "stream",
          "name": "stdout",
          "text": [
            "mkdir: cannot create directory ‘/root/.kaggle’: File exists\n"
          ]
        }
      ]
    },
    {
      "cell_type": "code",
      "execution_count": 50,
      "metadata": {
        "colab": {
          "base_uri": "https://localhost:8080/"
        },
        "id": "MA3O3rJhmhzm",
        "outputId": "087e292b-f44b-4349-93d1-af799d6faf77"
      },
      "outputs": [
        {
          "output_type": "stream",
          "name": "stdout",
          "text": [
            "salary-dataset-simple-linear-regression.zip: Skipping, found more recently modified local copy (use --force to force download)\n"
          ]
        }
      ],
      "source": [
        "! chmod 600 /root/.kaggle/kaggle.json\n",
        "! kaggle datasets download -d abhishek14398/salary-dataset-simple-linear-regression"
      ]
    },
    {
      "cell_type": "code",
      "source": [
        "import zipfile"
      ],
      "metadata": {
        "id": "TcI-RE6uml3h"
      },
      "execution_count": 138,
      "outputs": []
    },
    {
      "cell_type": "code",
      "source": [
        "zip_ref = zipfile.ZipFile('/content/salary-dataset-simple-linear-regression.zip', 'r')\n",
        "zip_ref.extractall('/content')\n",
        "zip_ref.close()"
      ],
      "metadata": {
        "id": "iaPD3ROHn8eg"
      },
      "execution_count": 16,
      "outputs": []
    },
    {
      "cell_type": "code",
      "source": [
        "import csv\n",
        "import matplotlib.pyplot as plt\n",
        "import numpy as np"
      ],
      "metadata": {
        "id": "y1cdPNbP8O96"
      },
      "execution_count": 144,
      "outputs": []
    },
    {
      "cell_type": "code",
      "source": [
        "data = []\n",
        "\n",
        "with open('Salary_dataset.csv', newline='') as csvfile:\n",
        "    reader = csv.DictReader(csvfile)\n",
        "    for row in reader:\n",
        "        print(float(row['YearsExperience']), float(row['Salary']))\n",
        "        data.append([float(row['YearsExperience']), float(row['Salary'])])"
      ],
      "metadata": {
        "colab": {
          "base_uri": "https://localhost:8080/"
        },
        "id": "9TMBXGOwxZg9",
        "outputId": "77a67e92-bece-4e73-f3e5-6b354bd29685"
      },
      "execution_count": 153,
      "outputs": [
        {
          "output_type": "stream",
          "name": "stdout",
          "text": [
            "1.2000000000000002 39344.0\n",
            "1.4000000000000001 46206.0\n",
            "1.6 37732.0\n",
            "2.1 43526.0\n",
            "2.3000000000000003 39892.0\n",
            "3.0 56643.0\n",
            "3.1 60151.0\n",
            "3.3000000000000003 54446.0\n",
            "3.3000000000000003 64446.0\n",
            "3.8000000000000003 57190.0\n",
            "4.0 63219.0\n",
            "4.1 55795.0\n",
            "4.1 56958.0\n",
            "4.199999999999999 57082.0\n",
            "4.6 61112.0\n",
            "5.0 67939.0\n",
            "5.199999999999999 66030.0\n",
            "5.3999999999999995 83089.0\n",
            "6.0 81364.0\n",
            "6.1 93941.0\n",
            "6.8999999999999995 91739.0\n",
            "7.199999999999999 98274.0\n",
            "8.0 101303.0\n",
            "8.299999999999999 113813.0\n",
            "8.799999999999999 109432.0\n",
            "9.1 105583.0\n",
            "9.6 116970.0\n",
            "9.7 112636.0\n",
            "10.4 122392.0\n",
            "10.6 121873.0\n"
          ]
        }
      ]
    },
    {
      "cell_type": "code",
      "source": [
        "X_train = [row[0] for row in data[:25]]\n",
        "y_train = [row[1] for row in data[:25]]\n",
        "\n",
        "X_test = [row[0] for row in data[25:]]\n",
        "y_test = [row[1] for row in data[25:]]"
      ],
      "metadata": {
        "id": "MKdWMaHlyKkW"
      },
      "execution_count": 141,
      "outputs": []
    },
    {
      "cell_type": "code",
      "source": [
        "print(y_test)"
      ],
      "metadata": {
        "colab": {
          "base_uri": "https://localhost:8080/"
        },
        "id": "Kb8C5Sbu3sSP",
        "outputId": "b728d76c-a755-431a-d447-2038c3e177bb"
      },
      "execution_count": 142,
      "outputs": [
        {
          "output_type": "stream",
          "name": "stdout",
          "text": [
            "[105583.0, 116970.0, 112636.0, 122392.0, 121873.0]\n"
          ]
        }
      ]
    },
    {
      "cell_type": "code",
      "source": [
        "np_array = np.array(data)"
      ],
      "metadata": {
        "id": "oBDEZYq7-v7f"
      },
      "execution_count": 155,
      "outputs": []
    },
    {
      "cell_type": "code",
      "source": [
        "plt.plot(X_train, y_train, 'o')"
      ],
      "metadata": {
        "colab": {
          "base_uri": "https://localhost:8080/",
          "height": 447
        },
        "id": "Rn-_Rt3sAhXP",
        "outputId": "f0af8160-9345-47d5-f76f-1510c0c2c9e4"
      },
      "execution_count": 165,
      "outputs": [
        {
          "output_type": "execute_result",
          "data": {
            "text/plain": [
              "[<matplotlib.lines.Line2D at 0x7ba5e148c310>]"
            ]
          },
          "metadata": {},
          "execution_count": 165
        },
        {
          "output_type": "display_data",
          "data": {
            "text/plain": [
              "<Figure size 640x480 with 1 Axes>"
            ],
            "image/png": "[encoded data removed]"
          },
          "metadata": {}
        }
      ]
    },
    {
      "cell_type": "code",
      "source": [],
      "metadata": {
        "id": "VsZj8PAYA259"
      },
      "execution_count": null,
      "outputs": []
    }
  ]
}